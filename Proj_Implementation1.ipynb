{
  "nbformat": 4,
  "nbformat_minor": 0,
  "metadata": {
    "colab": {
      "name": "Proj_Implementation1.ipynb",
      "provenance": [],
      "collapsed_sections": []
    },
    "kernelspec": {
      "name": "python3",
      "display_name": "Python 3"
    }
  },
  "cells": [
    {
      "cell_type": "code",
      "metadata": {
        "id": "JZeuUdVqTZwv",
        "colab_type": "code",
        "outputId": "7338d0e2-af02-46ad-fe0d-ad0b3c778c5d",
        "colab": {
          "base_uri": "https://localhost:8080/",
          "height": 71
        }
      },
      "source": [
        "#import all the necessary packages.\n",
        "\n",
        "from PIL import Image\n",
        "import requests\n",
        "from io import BytesIO\n",
        "import matplotlib.pyplot as plt\n",
        "import numpy as np\n",
        "import pandas as pd\n",
        "import warnings\n",
        "from bs4 import BeautifulSoup\n",
        "from nltk.corpus import stopwords\n",
        "from nltk.tokenize import word_tokenize\n",
        "import nltk\n",
        "import math\n",
        "import time\n",
        "import re\n",
        "import os\n",
        "import seaborn as sns\n",
        "from collections import Counter\n",
        "from sklearn.feature_extraction.text import CountVectorizer\n",
        "from sklearn.feature_extraction.text import TfidfVectorizer\n",
        "from sklearn.metrics.pairwise import cosine_similarity  \n",
        "from sklearn.metrics import pairwise_distances\n",
        "from matplotlib import gridspec\n",
        "from scipy.sparse import hstack\n",
        "import plotly\n",
        "import plotly.figure_factory as ff\n",
        "from plotly.graph_objs import Scatter, Layout\n",
        "\n",
        "plotly.offline.init_notebook_mode(connected=True)\n",
        "warnings.filterwarnings(\"ignore\")"
      ],
      "execution_count": 0,
      "outputs": [
        {
          "output_type": "stream",
          "text": [
            "/usr/local/lib/python3.6/dist-packages/statsmodels/tools/_testing.py:19: FutureWarning: pandas.util.testing is deprecated. Use the functions in the public API at pandas.testing instead.\n",
            "  import pandas.util.testing as tm\n"
          ],
          "name": "stderr"
        },
        {
          "output_type": "display_data",
          "data": {
            "text/html": [
              "        <script type=\"text/javascript\">\n",
              "        window.PlotlyConfig = {MathJaxConfig: 'local'};\n",
              "        if (window.MathJax) {MathJax.Hub.Config({SVG: {font: \"STIX-Web\"}});}\n",
              "        if (typeof require !== 'undefined') {\n",
              "        require.undef(\"plotly\");\n",
              "        requirejs.config({\n",
              "            paths: {\n",
              "                'plotly': ['https://cdn.plot.ly/plotly-latest.min']\n",
              "            }\n",
              "        });\n",
              "        require(['plotly'], function(Plotly) {\n",
              "            window._Plotly = Plotly;\n",
              "        });\n",
              "        }\n",
              "        </script>\n",
              "        "
            ]
          },
          "metadata": {
            "tags": []
          }
        }
      ]
    },
    {
      "cell_type": "code",
      "metadata": {
        "id": "GAePuNxDT4Bf",
        "colab_type": "code",
        "colab": {}
      },
      "source": [
        "# we have give a json file which consists of all information about\n",
        "# the products\n",
        "# loading the data using pandas' read_json file.\n",
        "data = pd.read_json('/content/drive/My Drive/Applied_AI_Workshop_Code_Data/tops_fashion.json')\n"
      ],
      "execution_count": 0,
      "outputs": []
    },
    {
      "cell_type": "code",
      "metadata": {
        "id": "9pvIs3BoUElI",
        "colab_type": "code",
        "outputId": "a41ebd0b-c2c1-409d-f016-63d26e23b181",
        "colab": {
          "base_uri": "https://localhost:8080/",
          "height": 51
        }
      },
      "source": [
        "print ('Number of data points : ', data.shape[0], \\\n",
        "       '\\nNumber of features/variables:', data.shape[1])"
      ],
      "execution_count": 0,
      "outputs": [
        {
          "output_type": "stream",
          "text": [
            "Number of data points :  183138 \n",
            "Number of features/variables: 19\n"
          ],
          "name": "stdout"
        }
      ]
    },
    {
      "cell_type": "code",
      "metadata": {
        "id": "rMRhv8knUS6l",
        "colab_type": "code",
        "outputId": "5f0c2e58-4477-48c8-bc6a-d3c52984a125",
        "colab": {
          "base_uri": "https://localhost:8080/",
          "height": 119
        }
      },
      "source": [
        "# each product/item has 19 features in the raw dataset.\n",
        "data.columns # prints column-names or feature-names"
      ],
      "execution_count": 0,
      "outputs": [
        {
          "output_type": "execute_result",
          "data": {
            "text/plain": [
              "Index(['sku', 'asin', 'product_type_name', 'formatted_price', 'author',\n",
              "       'color', 'brand', 'publisher', 'availability', 'reviews',\n",
              "       'large_image_url', 'availability_type', 'small_image_url',\n",
              "       'editorial_review', 'title', 'model', 'medium_image_url',\n",
              "       'manufacturer', 'editorial_reivew'],\n",
              "      dtype='object')"
            ]
          },
          "metadata": {
            "tags": []
          },
          "execution_count": 4
        }
      ]
    },
    {
      "cell_type": "code",
      "metadata": {
        "id": "ZatjzaPGUVIB",
        "colab_type": "code",
        "colab": {}
      },
      "source": [
        "data = data[['asin', 'brand', 'color', 'medium_image_url', 'product_type_name', 'title', 'formatted_price']]"
      ],
      "execution_count": 0,
      "outputs": []
    },
    {
      "cell_type": "code",
      "metadata": {
        "id": "9I4Nq4ayUgJ3",
        "colab_type": "code",
        "outputId": "f9cf3877-debf-464c-c2b6-934f2ca4108c",
        "colab": {
          "base_uri": "https://localhost:8080/",
          "height": 442
        }
      },
      "source": [
        "print ('Number of data points : ', data.shape[0], \\\n",
        "       '\\nNumber of features:', data.shape[1])\n",
        "data.head() # prints the top rows in the table."
      ],
      "execution_count": 0,
      "outputs": [
        {
          "output_type": "stream",
          "text": [
            "Number of data points :  183138 \n",
            "Number of features: 7\n"
          ],
          "name": "stdout"
        },
        {
          "output_type": "execute_result",
          "data": {
            "text/html": [
              "<div>\n",
              "<style scoped>\n",
              "    .dataframe tbody tr th:only-of-type {\n",
              "        vertical-align: middle;\n",
              "    }\n",
              "\n",
              "    .dataframe tbody tr th {\n",
              "        vertical-align: top;\n",
              "    }\n",
              "\n",
              "    .dataframe thead th {\n",
              "        text-align: right;\n",
              "    }\n",
              "</style>\n",
              "<table border=\"1\" class=\"dataframe\">\n",
              "  <thead>\n",
              "    <tr style=\"text-align: right;\">\n",
              "      <th></th>\n",
              "      <th>asin</th>\n",
              "      <th>brand</th>\n",
              "      <th>color</th>\n",
              "      <th>medium_image_url</th>\n",
              "      <th>product_type_name</th>\n",
              "      <th>title</th>\n",
              "      <th>formatted_price</th>\n",
              "    </tr>\n",
              "  </thead>\n",
              "  <tbody>\n",
              "    <tr>\n",
              "      <th>0</th>\n",
              "      <td>B016I2TS4W</td>\n",
              "      <td>FNC7C</td>\n",
              "      <td>None</td>\n",
              "      <td>https://images-na.ssl-images-amazon.com/images...</td>\n",
              "      <td>SHIRT</td>\n",
              "      <td>Minions Como Superheroes Ironman Long Sleeve R...</td>\n",
              "      <td>None</td>\n",
              "    </tr>\n",
              "    <tr>\n",
              "      <th>1</th>\n",
              "      <td>B01N49AI08</td>\n",
              "      <td>FIG Clothing</td>\n",
              "      <td>None</td>\n",
              "      <td>https://images-na.ssl-images-amazon.com/images...</td>\n",
              "      <td>SHIRT</td>\n",
              "      <td>FIG Clothing Womens Izo Tunic</td>\n",
              "      <td>None</td>\n",
              "    </tr>\n",
              "    <tr>\n",
              "      <th>2</th>\n",
              "      <td>B01JDPCOHO</td>\n",
              "      <td>FIG Clothing</td>\n",
              "      <td>None</td>\n",
              "      <td>https://images-na.ssl-images-amazon.com/images...</td>\n",
              "      <td>SHIRT</td>\n",
              "      <td>FIG Clothing Womens Won Top</td>\n",
              "      <td>None</td>\n",
              "    </tr>\n",
              "    <tr>\n",
              "      <th>3</th>\n",
              "      <td>B01N19U5H5</td>\n",
              "      <td>Focal18</td>\n",
              "      <td>None</td>\n",
              "      <td>https://images-na.ssl-images-amazon.com/images...</td>\n",
              "      <td>SHIRT</td>\n",
              "      <td>Focal18 Sailor Collar Bubble Sleeve Blouse Shi...</td>\n",
              "      <td>None</td>\n",
              "    </tr>\n",
              "    <tr>\n",
              "      <th>4</th>\n",
              "      <td>B004GSI2OS</td>\n",
              "      <td>FeatherLite</td>\n",
              "      <td>Onyx Black/ Stone</td>\n",
              "      <td>https://images-na.ssl-images-amazon.com/images...</td>\n",
              "      <td>SHIRT</td>\n",
              "      <td>Featherlite Ladies' Long Sleeve Stain Resistan...</td>\n",
              "      <td>$26.26</td>\n",
              "    </tr>\n",
              "  </tbody>\n",
              "</table>\n",
              "</div>"
            ],
            "text/plain": [
              "         asin  ... formatted_price\n",
              "0  B016I2TS4W  ...            None\n",
              "1  B01N49AI08  ...            None\n",
              "2  B01JDPCOHO  ...            None\n",
              "3  B01N19U5H5  ...            None\n",
              "4  B004GSI2OS  ...          $26.26\n",
              "\n",
              "[5 rows x 7 columns]"
            ]
          },
          "metadata": {
            "tags": []
          },
          "execution_count": 6
        }
      ]
    },
    {
      "cell_type": "code",
      "metadata": {
        "id": "Gzoe_OTiUjQy",
        "colab_type": "code",
        "outputId": "57e6d4ab-eb36-4b78-abda-0ea8705efc59",
        "colab": {
          "base_uri": "https://localhost:8080/",
          "height": 102
        }
      },
      "source": [
        "# We have total 72 unique type of product_type_names\n",
        "print(data['product_type_name'].describe())\n",
        "\n",
        "# 91.62% (167794/183138) of the products are shirts,\n"
      ],
      "execution_count": 0,
      "outputs": [
        {
          "output_type": "stream",
          "text": [
            "count     183138\n",
            "unique        72\n",
            "top        SHIRT\n",
            "freq      167794\n",
            "Name: product_type_name, dtype: object\n"
          ],
          "name": "stdout"
        }
      ]
    },
    {
      "cell_type": "code",
      "metadata": {
        "id": "_vd7VT0TUlq-",
        "colab_type": "code",
        "outputId": "8d53eb28-31ea-45ad-bf27-54ba1b388983",
        "colab": {
          "base_uri": "https://localhost:8080/",
          "height": 306
        }
      },
      "source": [
        "# names of different product types\n",
        "print(data['product_type_name'].unique())"
      ],
      "execution_count": 0,
      "outputs": [
        {
          "output_type": "stream",
          "text": [
            "['SHIRT' 'SWEATER' 'APPAREL' 'OUTDOOR_RECREATION_PRODUCT'\n",
            " 'BOOKS_1973_AND_LATER' 'PANTS' 'HAT' 'SPORTING_GOODS' 'DRESS' 'UNDERWEAR'\n",
            " 'SKIRT' 'OUTERWEAR' 'BRA' 'ACCESSORY' 'ART_SUPPLIES' 'SLEEPWEAR'\n",
            " 'ORCA_SHIRT' 'HANDBAG' 'PET_SUPPLIES' 'SHOES' 'KITCHEN' 'ADULT_COSTUME'\n",
            " 'HOME_BED_AND_BATH' 'MISC_OTHER' 'BLAZER' 'HEALTH_PERSONAL_CARE'\n",
            " 'TOYS_AND_GAMES' 'SWIMWEAR' 'CONSUMER_ELECTRONICS' 'SHORTS' 'HOME'\n",
            " 'AUTO_PART' 'OFFICE_PRODUCTS' 'ETHNIC_WEAR' 'BEAUTY'\n",
            " 'INSTRUMENT_PARTS_AND_ACCESSORIES' 'POWERSPORTS_PROTECTIVE_GEAR' 'SHIRTS'\n",
            " 'ABIS_APPAREL' 'AUTO_ACCESSORY' 'NONAPPARELMISC' 'TOOLS' 'BABY_PRODUCT'\n",
            " 'SOCKSHOSIERY' 'POWERSPORTS_RIDING_SHIRT' 'EYEWEAR' 'SUIT'\n",
            " 'OUTDOOR_LIVING' 'POWERSPORTS_RIDING_JACKET' 'HARDWARE' 'SAFETY_SUPPLY'\n",
            " 'ABIS_DVD' 'VIDEO_DVD' 'GOLF_CLUB' 'MUSIC_POPULAR_VINYL'\n",
            " 'HOME_FURNITURE_AND_DECOR' 'TABLET_COMPUTER' 'GUILD_ACCESSORIES'\n",
            " 'ABIS_SPORTS' 'ART_AND_CRAFT_SUPPLY' 'BAG' 'MECHANICAL_COMPONENTS'\n",
            " 'SOUND_AND_RECORDING_EQUIPMENT' 'COMPUTER_COMPONENT' 'JEWELRY'\n",
            " 'BUILDING_MATERIAL' 'LUGGAGE' 'BABY_COSTUME' 'POWERSPORTS_VEHICLE_PART'\n",
            " 'PROFESSIONAL_HEALTHCARE' 'SEEDS_AND_PLANTS' 'WIRELESS_ACCESSORY']\n"
          ],
          "name": "stdout"
        }
      ]
    },
    {
      "cell_type": "code",
      "metadata": {
        "id": "bQ8cH449UqvC",
        "colab_type": "code",
        "outputId": "f2a9864c-7077-42b3-b631-31ff6eecd09b",
        "colab": {
          "base_uri": "https://localhost:8080/",
          "height": 187
        }
      },
      "source": [
        "# find the 10 most frequent product_type_names.\n",
        "product_type_count = Counter(list(data['product_type_name']))\n",
        "product_type_count.most_common(10)"
      ],
      "execution_count": 0,
      "outputs": [
        {
          "output_type": "execute_result",
          "data": {
            "text/plain": [
              "[('SHIRT', 167794),\n",
              " ('APPAREL', 3549),\n",
              " ('BOOKS_1973_AND_LATER', 3336),\n",
              " ('DRESS', 1584),\n",
              " ('SPORTING_GOODS', 1281),\n",
              " ('SWEATER', 837),\n",
              " ('OUTERWEAR', 796),\n",
              " ('OUTDOOR_RECREATION_PRODUCT', 729),\n",
              " ('ACCESSORY', 636),\n",
              " ('UNDERWEAR', 425)]"
            ]
          },
          "metadata": {
            "tags": []
          },
          "execution_count": 9
        }
      ]
    },
    {
      "cell_type": "code",
      "metadata": {
        "id": "t45ef_9MUtwx",
        "colab_type": "code",
        "outputId": "f78050fc-ee4b-4f2c-e3a6-8d116281ae9a",
        "colab": {
          "base_uri": "https://localhost:8080/",
          "height": 102
        }
      },
      "source": [
        "# there are 10577 unique brands\n",
        "print(data['brand'].describe())\n",
        "\n",
        "# 183138 - 182987 = 151 missing values."
      ],
      "execution_count": 0,
      "outputs": [
        {
          "output_type": "stream",
          "text": [
            "count     182987\n",
            "unique     10577\n",
            "top         Zago\n",
            "freq         223\n",
            "Name: brand, dtype: object\n"
          ],
          "name": "stdout"
        }
      ]
    },
    {
      "cell_type": "code",
      "metadata": {
        "id": "gN65M8bLUvv-",
        "colab_type": "code",
        "outputId": "fddcf58e-0e0a-4cdf-afd4-66fdb5ee8685",
        "colab": {
          "base_uri": "https://localhost:8080/",
          "height": 187
        }
      },
      "source": [
        "brand_count = Counter(list(data['brand']))\n",
        "brand_count.most_common(10)"
      ],
      "execution_count": 0,
      "outputs": [
        {
          "output_type": "execute_result",
          "data": {
            "text/plain": [
              "[('Zago', 223),\n",
              " ('XQS', 222),\n",
              " ('Yayun', 215),\n",
              " ('YUNY', 198),\n",
              " ('XiaoTianXin-women clothes', 193),\n",
              " ('Generic', 192),\n",
              " ('Boohoo', 190),\n",
              " ('Alion', 188),\n",
              " ('Abetteric', 187),\n",
              " ('TheMogan', 187)]"
            ]
          },
          "metadata": {
            "tags": []
          },
          "execution_count": 11
        }
      ]
    },
    {
      "cell_type": "code",
      "metadata": {
        "id": "53cW4hqmUxnv",
        "colab_type": "code",
        "outputId": "6d1d910b-5853-42d0-b06f-f9cff2af44e9",
        "colab": {
          "base_uri": "https://localhost:8080/",
          "height": 102
        }
      },
      "source": [
        "print(data['color'].describe())\n",
        "\n",
        "\n",
        "# we have 7380 unique colors\n",
        "# 7.2% of products are black in color\n",
        "# 64956 of 183138 products have brand information. That's approx 35.4%."
      ],
      "execution_count": 0,
      "outputs": [
        {
          "output_type": "stream",
          "text": [
            "count     64956\n",
            "unique     7380\n",
            "top       Black\n",
            "freq      13207\n",
            "Name: color, dtype: object\n"
          ],
          "name": "stdout"
        }
      ]
    },
    {
      "cell_type": "code",
      "metadata": {
        "id": "E4D1YhFKUzUv",
        "colab_type": "code",
        "outputId": "5463ebbf-6fcb-4f20-a812-50b8b20aba03",
        "colab": {
          "base_uri": "https://localhost:8080/",
          "height": 187
        }
      },
      "source": [
        "color_count = Counter(list(data['color']))\n",
        "color_count.most_common(10)"
      ],
      "execution_count": 0,
      "outputs": [
        {
          "output_type": "execute_result",
          "data": {
            "text/plain": [
              "[(None, 118182),\n",
              " ('Black', 13207),\n",
              " ('White', 8616),\n",
              " ('Blue', 3570),\n",
              " ('Red', 2289),\n",
              " ('Pink', 1842),\n",
              " ('Grey', 1499),\n",
              " ('*', 1388),\n",
              " ('Green', 1258),\n",
              " ('Multi', 1203)]"
            ]
          },
          "metadata": {
            "tags": []
          },
          "execution_count": 13
        }
      ]
    },
    {
      "cell_type": "code",
      "metadata": {
        "id": "ZiS7CiuZU10a",
        "colab_type": "code",
        "outputId": "52a3a901-d3a7-48b8-b5d1-6e2b825747f0",
        "colab": {
          "base_uri": "https://localhost:8080/",
          "height": 102
        }
      },
      "source": [
        "print(data['formatted_price'].describe())\n",
        "\n",
        "# Only 28,395 (15.5% of whole data) products with price information"
      ],
      "execution_count": 0,
      "outputs": [
        {
          "output_type": "stream",
          "text": [
            "count      28395\n",
            "unique      3135\n",
            "top       $19.99\n",
            "freq         945\n",
            "Name: formatted_price, dtype: object\n"
          ],
          "name": "stdout"
        }
      ]
    },
    {
      "cell_type": "code",
      "metadata": {
        "id": "dNHH9rw8U38T",
        "colab_type": "code",
        "outputId": "bcc29f89-2aee-41de-e78b-61208c5afeef",
        "colab": {
          "base_uri": "https://localhost:8080/",
          "height": 187
        }
      },
      "source": [
        "price_count = Counter(list(data['formatted_price']))\n",
        "price_count.most_common(10)"
      ],
      "execution_count": 0,
      "outputs": [
        {
          "output_type": "execute_result",
          "data": {
            "text/plain": [
              "[(None, 154743),\n",
              " ('$19.99', 945),\n",
              " ('$9.99', 749),\n",
              " ('$9.50', 601),\n",
              " ('$14.99', 472),\n",
              " ('$7.50', 463),\n",
              " ('$24.99', 414),\n",
              " ('$29.99', 370),\n",
              " ('$8.99', 343),\n",
              " ('$9.01', 336)]"
            ]
          },
          "metadata": {
            "tags": []
          },
          "execution_count": 15
        }
      ]
    },
    {
      "cell_type": "code",
      "metadata": {
        "id": "nJgemsrBU7DP",
        "colab_type": "code",
        "outputId": "751a6c78-35f6-48ec-c4e1-b06367cf3576",
        "colab": {
          "base_uri": "https://localhost:8080/",
          "height": 102
        }
      },
      "source": [
        "print(data['title'].describe())\n",
        "\n",
        "# All of the products have a title. \n",
        "# Titles are fairly descriptive of what the product is. \n",
        "# We use titles extensively in this workshop \n",
        "# as they are short and informative.\n"
      ],
      "execution_count": 0,
      "outputs": [
        {
          "output_type": "stream",
          "text": [
            "count                                                183138\n",
            "unique                                               175985\n",
            "top       Nakoda Cotton Self Print Straight Kurti For Women\n",
            "freq                                                     77\n",
            "Name: title, dtype: object\n"
          ],
          "name": "stdout"
        }
      ]
    },
    {
      "cell_type": "code",
      "metadata": {
        "id": "WvezgaeUU9Fc",
        "colab_type": "code",
        "colab": {}
      },
      "source": [
        "data.to_pickle('/content/180k_apparel_data')"
      ],
      "execution_count": 0,
      "outputs": []
    },
    {
      "cell_type": "code",
      "metadata": {
        "id": "CMhkuAEsU_Ai",
        "colab_type": "code",
        "outputId": "88c55db2-a6db-4d07-d635-c9b010e8e90e",
        "colab": {
          "base_uri": "https://localhost:8080/",
          "height": 34
        }
      },
      "source": [
        "# consider products which have price information\n",
        "# data['formatted_price'].isnull() => gives the information \n",
        "#about the dataframe row's which have null values price == None|Null\n",
        "data = data.loc[~data['formatted_price'].isnull()]\n",
        "print('Number of data points After eliminating price=NULL :', data.shape[0])"
      ],
      "execution_count": 0,
      "outputs": [
        {
          "output_type": "stream",
          "text": [
            "Number of data points After eliminating price=NULL : 28395\n"
          ],
          "name": "stdout"
        }
      ]
    },
    {
      "cell_type": "code",
      "metadata": {
        "id": "MlEtpEuiVA5g",
        "colab_type": "code",
        "outputId": "427a4c43-ffca-45f0-c65d-72137397b39d",
        "colab": {
          "base_uri": "https://localhost:8080/",
          "height": 34
        }
      },
      "source": [
        "# consider products which have color information\n",
        "# data['color'].isnull() => gives the information about the dataframe row's which have null values price == None|Null\n",
        "data =data.loc[~data['color'].isnull()]\n",
        "print('Number of data points After eliminating color=NULL :', data.shape[0])"
      ],
      "execution_count": 0,
      "outputs": [
        {
          "output_type": "stream",
          "text": [
            "Number of data points After eliminating color=NULL : 28385\n"
          ],
          "name": "stdout"
        }
      ]
    },
    {
      "cell_type": "code",
      "metadata": {
        "id": "eeuZr3YHVCtt",
        "colab_type": "code",
        "colab": {}
      },
      "source": [
        "data.to_pickle('/content/28k_apparel_data')"
      ],
      "execution_count": 0,
      "outputs": []
    },
    {
      "cell_type": "code",
      "metadata": {
        "id": "is887KpOVEwg",
        "colab_type": "code",
        "outputId": "1d2b7442-e992-4eb3-8c75-d1a03f438a33",
        "colab": {
          "base_uri": "https://localhost:8080/",
          "height": 34
        }
      },
      "source": [
        "# read data from pickle file from previous stage\n",
        "data = pd.read_pickle('/content/28k_apparel_data')\n",
        "\n",
        "# find number of products that have duplicate titles.\n",
        "print(sum(data.duplicated('title')))\n",
        "# we have 2325 products which have same title but different color\n"
      ],
      "execution_count": 0,
      "outputs": [
        {
          "output_type": "stream",
          "text": [
            "2325\n"
          ],
          "name": "stdout"
        }
      ]
    },
    {
      "cell_type": "code",
      "metadata": {
        "id": "Fti1lc9NVGV2",
        "colab_type": "code",
        "colab": {}
      },
      "source": [
        "# read data from pickle file from previous stage\n",
        "data = pd.read_pickle('/content/28k_apparel_data')"
      ],
      "execution_count": 0,
      "outputs": []
    },
    {
      "cell_type": "code",
      "metadata": {
        "id": "elCgrb_OVIE1",
        "colab_type": "code",
        "outputId": "ad07bac2-c2a1-415b-f478-7401af6d8745",
        "colab": {
          "base_uri": "https://localhost:8080/",
          "height": 34
        }
      },
      "source": [
        "# Remove All products with very few words in title\n",
        "data_sorted = data[data['title'].apply(lambda x: len(x.split())>4)]\n",
        "print(\"After removal of products with short description:\", data_sorted.shape[0])"
      ],
      "execution_count": 0,
      "outputs": [
        {
          "output_type": "stream",
          "text": [
            "After removal of products with short description: 27949\n"
          ],
          "name": "stdout"
        }
      ]
    },
    {
      "cell_type": "code",
      "metadata": {
        "id": "FEeIlHeFVJ8I",
        "colab_type": "code",
        "outputId": "1897c5ff-e3fe-4444-b7b2-778a49c25f7e",
        "colab": {
          "base_uri": "https://localhost:8080/",
          "height": 544
        }
      },
      "source": [
        "# Sort the whole data based on title (alphabetical order of title) \n",
        "data_sorted.sort_values('title',inplace=True, ascending=False)\n",
        "data_sorted.head()"
      ],
      "execution_count": 0,
      "outputs": [
        {
          "output_type": "execute_result",
          "data": {
            "text/html": [
              "<div>\n",
              "<style scoped>\n",
              "    .dataframe tbody tr th:only-of-type {\n",
              "        vertical-align: middle;\n",
              "    }\n",
              "\n",
              "    .dataframe tbody tr th {\n",
              "        vertical-align: top;\n",
              "    }\n",
              "\n",
              "    .dataframe thead th {\n",
              "        text-align: right;\n",
              "    }\n",
              "</style>\n",
              "<table border=\"1\" class=\"dataframe\">\n",
              "  <thead>\n",
              "    <tr style=\"text-align: right;\">\n",
              "      <th></th>\n",
              "      <th>asin</th>\n",
              "      <th>brand</th>\n",
              "      <th>color</th>\n",
              "      <th>medium_image_url</th>\n",
              "      <th>product_type_name</th>\n",
              "      <th>title</th>\n",
              "      <th>formatted_price</th>\n",
              "    </tr>\n",
              "  </thead>\n",
              "  <tbody>\n",
              "    <tr>\n",
              "      <th>61973</th>\n",
              "      <td>B06Y1KZ2WB</td>\n",
              "      <td>Éclair</td>\n",
              "      <td>Black/Pink</td>\n",
              "      <td>https://images-na.ssl-images-amazon.com/images...</td>\n",
              "      <td>SHIRT</td>\n",
              "      <td>Éclair Women's Printed Thin Strap Blouse Black...</td>\n",
              "      <td>$24.99</td>\n",
              "    </tr>\n",
              "    <tr>\n",
              "      <th>133820</th>\n",
              "      <td>B010RV33VE</td>\n",
              "      <td>xiaoming</td>\n",
              "      <td>Pink</td>\n",
              "      <td>https://images-na.ssl-images-amazon.com/images...</td>\n",
              "      <td>SHIRT</td>\n",
              "      <td>xiaoming Womens Sleeveless Loose Long T-shirts...</td>\n",
              "      <td>$18.19</td>\n",
              "    </tr>\n",
              "    <tr>\n",
              "      <th>81461</th>\n",
              "      <td>B01DDSDLNS</td>\n",
              "      <td>xiaoming</td>\n",
              "      <td>White</td>\n",
              "      <td>https://images-na.ssl-images-amazon.com/images...</td>\n",
              "      <td>SHIRT</td>\n",
              "      <td>xiaoming Women's White Long Sleeve Single Brea...</td>\n",
              "      <td>$21.58</td>\n",
              "    </tr>\n",
              "    <tr>\n",
              "      <th>75995</th>\n",
              "      <td>B00X5LYO9Y</td>\n",
              "      <td>xiaoming</td>\n",
              "      <td>Red Anchors</td>\n",
              "      <td>https://images-na.ssl-images-amazon.com/images...</td>\n",
              "      <td>SHIRT</td>\n",
              "      <td>xiaoming Stripes Tank Patch/Bear Sleeve Anchor...</td>\n",
              "      <td>$15.91</td>\n",
              "    </tr>\n",
              "    <tr>\n",
              "      <th>151570</th>\n",
              "      <td>B00WPJG35K</td>\n",
              "      <td>xiaoming</td>\n",
              "      <td>White</td>\n",
              "      <td>https://images-na.ssl-images-amazon.com/images...</td>\n",
              "      <td>SHIRT</td>\n",
              "      <td>xiaoming Sleeve Sheer Loose Tassel Kimono Woma...</td>\n",
              "      <td>$14.32</td>\n",
              "    </tr>\n",
              "  </tbody>\n",
              "</table>\n",
              "</div>"
            ],
            "text/plain": [
              "              asin  ... formatted_price\n",
              "61973   B06Y1KZ2WB  ...          $24.99\n",
              "133820  B010RV33VE  ...          $18.19\n",
              "81461   B01DDSDLNS  ...          $21.58\n",
              "75995   B00X5LYO9Y  ...          $15.91\n",
              "151570  B00WPJG35K  ...          $14.32\n",
              "\n",
              "[5 rows x 7 columns]"
            ]
          },
          "metadata": {
            "tags": []
          },
          "execution_count": 24
        }
      ]
    },
    {
      "cell_type": "code",
      "metadata": {
        "id": "LjJZ3xUdVMC-",
        "colab_type": "code",
        "colab": {}
      },
      "source": [
        "indices = []\n",
        "for i,row in data_sorted.iterrows():\n",
        "    indices.append(i)"
      ],
      "execution_count": 0,
      "outputs": []
    },
    {
      "cell_type": "code",
      "metadata": {
        "id": "0Mdb_UpwVOaZ",
        "colab_type": "code",
        "colab": {}
      },
      "source": [
        "import itertools\n",
        "stage1_dedupe_asins = []\n",
        "i = 0\n",
        "j = 0\n",
        "num_data_points = data_sorted.shape[0]\n",
        "while i < num_data_points and j < num_data_points:\n",
        "    \n",
        "    previous_i = i\n",
        "\n",
        "    # store the list of words of ith string in a, ex: a = ['tokidoki', 'The', 'Queen', 'of', 'Diamonds', 'Women's', 'Shirt', 'X-Large']\n",
        "    a = data['title'].loc[indices[i]].split()\n",
        "\n",
        "    # search for the similar products sequentially \n",
        "    j = i+1\n",
        "    while j < num_data_points:\n",
        "\n",
        "        # store the list of words of jth string in b, ex: b = ['tokidoki', 'The', 'Queen', 'of', 'Diamonds', 'Women's', 'Shirt', 'Small']\n",
        "        b = data['title'].loc[indices[j]].split()\n",
        "\n",
        "        # store the maximum length of two strings\n",
        "        length = max(len(a), len(b))\n",
        "\n",
        "        # count is used to store the number of words that are matched in both strings\n",
        "        count  = 0\n",
        "\n",
        "        # itertools.zip_longest(a,b): will map the corresponding words in both strings, it will appened None in case of unequal strings\n",
        "        # example: a =['a', 'b', 'c', 'd']\n",
        "        # b = ['a', 'b', 'd']\n",
        "        # itertools.zip_longest(a,b): will give [('a','a'), ('b','b'), ('c','d'), ('d', None)]\n",
        "        for k in itertools.zip_longest(a,b): \n",
        "            if (k[0] == k[1]):\n",
        "                count += 1\n",
        "\n",
        "        # if the number of words in which both strings differ are > 2 , we are considering it as those two apperals are different\n",
        "        # if the number of words in which both strings differ are < 2 , we are considering it as those two apperals are same, hence we are ignoring them\n",
        "        if (length - count) > 2: # number of words in which both sensences differ\n",
        "            # if both strings are differ by more than 2 words we include the 1st string index\n",
        "            stage1_dedupe_asins.append(data_sorted['asin'].loc[indices[i]])\n",
        "\n",
        "\n",
        "            # start searching for similar apperals corresponds 2nd string\n",
        "            i = j\n",
        "            break\n",
        "        else:\n",
        "            j += 1\n",
        "    if previous_i == i:\n",
        "        break"
      ],
      "execution_count": 0,
      "outputs": []
    },
    {
      "cell_type": "code",
      "metadata": {
        "id": "uIU2U5MxVQKr",
        "colab_type": "code",
        "colab": {}
      },
      "source": [
        "#removed duplicates which differ only at the end\n",
        "data = data.loc[data['asin'].isin(stage1_dedupe_asins)]"
      ],
      "execution_count": 0,
      "outputs": []
    },
    {
      "cell_type": "code",
      "metadata": {
        "id": "B2-tat4zVSvX",
        "colab_type": "code",
        "outputId": "ed1a4d1d-75d3-4e59-9678-005182c2d676",
        "colab": {
          "base_uri": "https://localhost:8080/",
          "height": 34
        }
      },
      "source": [
        "print('Number of data points : ', data.shape[0])"
      ],
      "execution_count": 0,
      "outputs": [
        {
          "output_type": "stream",
          "text": [
            "Number of data points :  17592\n"
          ],
          "name": "stdout"
        }
      ]
    },
    {
      "cell_type": "code",
      "metadata": {
        "id": "JFzYZg5TVUVH",
        "colab_type": "code",
        "colab": {}
      },
      "source": [
        "data.to_pickle('/content/17k_apperal_data')"
      ],
      "execution_count": 0,
      "outputs": []
    },
    {
      "cell_type": "code",
      "metadata": {
        "id": "pnHXQoJIVWBe",
        "colab_type": "code",
        "colab": {}
      },
      "source": [
        "#remove products whose titles are not adjacent but very similar."
      ],
      "execution_count": 0,
      "outputs": []
    },
    {
      "cell_type": "code",
      "metadata": {
        "id": "XUJJHC-WVYAy",
        "colab_type": "code",
        "colab": {}
      },
      "source": [
        "data = pd.read_pickle('/content/17k_apperal_data')"
      ],
      "execution_count": 0,
      "outputs": []
    },
    {
      "cell_type": "code",
      "metadata": {
        "id": "l7sSCZNqVpUf",
        "colab_type": "code",
        "outputId": "701ab907-aca5-4d5e-ba01-86c4a231ce6a",
        "colab": {
          "base_uri": "https://localhost:8080/",
          "height": 54
        }
      },
      "source": [
        "# This code snippet takes about 45 mins to run on 17k products. I have saved the state into a pickle file \n",
        "# after running the code.\n",
        "\"\"\"\n",
        "indices = []\n",
        "for i,row in data.iterrows():\n",
        "    indices.append(i)\n",
        "\n",
        "stage2_dedupe_asins = []\n",
        "while len(indices)!=0:\n",
        "    i = indices.pop()\n",
        "    stage2_dedupe_asins.append(data['asin'].loc[i])\n",
        "    # consider the first apperal's title\n",
        "    a = data['title'].loc[i].split()\n",
        "    # store the list of words of ith string in a\n",
        "    for j in indices:\n",
        "        \n",
        "        b = data['title'].loc[j].split()\n",
        "        # store the list of words of jth string in b\n",
        "        \n",
        "        length = max(len(a),len(b))\n",
        "        \n",
        "        # count is used to store the number of words that are matched in both strings\n",
        "        count  = 0\n",
        "\n",
        "        for k in itertools.zip_longest(a,b): \n",
        "            if (k[0]==k[1]):\n",
        "                count += 1\n",
        "\n",
        "        # if the number of words in which both strings differ are < 3 , we are considering it as those two apperals are same, hence we are ignoring them\n",
        "        if (length - count) < 3:\n",
        "            indices.remove(j)\n",
        "            \"\"\"\n",
        "#data.to_pickle('/content/16k_apperal_data')"
      ],
      "execution_count": 0,
      "outputs": [
        {
          "output_type": "execute_result",
          "data": {
            "text/plain": [
              "\"\\nindices = []\\nfor i,row in data.iterrows():\\n    indices.append(i)\\n\\nstage2_dedupe_asins = []\\nwhile len(indices)!=0:\\n    i = indices.pop()\\n    stage2_dedupe_asins.append(data['asin'].loc[i])\\n    # consider the first apperal's title\\n    a = data['title'].loc[i].split()\\n    # store the list of words of ith string in a\\n    for j in indices:\\n        \\n        b = data['title'].loc[j].split()\\n        # store the list of words of jth string in b\\n        \\n        length = max(len(a),len(b))\\n        \\n        # count is used to store the number of words that are matched in both strings\\n        count  = 0\\n\\n        for k in itertools.zip_longest(a,b): \\n            if (k[0]==k[1]):\\n                count += 1\\n\\n        # if the number of words in which both strings differ are < 3 , we are considering it as those two apperals are same, hence we are ignoring them\\n        if (length - count) < 3:\\n            indices.remove(j)\\n            \""
            ]
          },
          "metadata": {
            "tags": []
          },
          "execution_count": 32
        }
      ]
    },
    {
      "cell_type": "code",
      "metadata": {
        "id": "CjuSgJVDVr55",
        "colab_type": "code",
        "outputId": "fa7f8fbd-d260-493f-f211-9564dd1d0509",
        "colab": {
          "base_uri": "https://localhost:8080/",
          "height": 289
        }
      },
      "source": [
        "import nltk\n",
        "nltk.download()"
      ],
      "execution_count": 0,
      "outputs": [
        {
          "output_type": "stream",
          "text": [
            "NLTK Downloader\n",
            "---------------------------------------------------------------------------\n",
            "    d) Download   l) List    u) Update   c) Config   h) Help   q) Quit\n",
            "---------------------------------------------------------------------------\n",
            "Downloader> d\n",
            "\n",
            "Download which package (l=list; x=cancel)?\n",
            "  Identifier> stopwords\n",
            "    Downloading package stopwords to /root/nltk_data...\n",
            "      Unzipping corpora/stopwords.zip.\n",
            "\n",
            "---------------------------------------------------------------------------\n",
            "    d) Download   l) List    u) Update   c) Config   h) Help   q) Quit\n",
            "---------------------------------------------------------------------------\n",
            "Downloader> q\n"
          ],
          "name": "stdout"
        },
        {
          "output_type": "execute_result",
          "data": {
            "text/plain": [
              "True"
            ]
          },
          "metadata": {
            "tags": []
          },
          "execution_count": 33
        }
      ]
    },
    {
      "cell_type": "code",
      "metadata": {
        "id": "8nDSDFnLVuLB",
        "colab_type": "code",
        "outputId": "bbfdcd59-6836-4cbd-c91a-6ee8d0a86166",
        "colab": {
          "base_uri": "https://localhost:8080/",
          "height": 54
        }
      },
      "source": [
        "stop_words = set(stopwords.words('english'))\n",
        "print ('list of stop words:', stop_words)"
      ],
      "execution_count": 0,
      "outputs": [
        {
          "output_type": "stream",
          "text": [
            "list of stop words: {\"should've\", 'him', 'shan', 'with', 'too', 'you', 'before', 'some', 'into', 'nor', 're', 's', 'mightn', 'them', 'and', 'your', 'wasn', 'in', 'until', 'himself', 'whom', 'me', 'these', 'which', 'will', 'yourself', 'what', \"mightn't\", 'our', \"hasn't\", 'there', 'is', 'when', 'about', \"you'd\", \"she's\", 'why', 'don', 'am', 'm', 'how', 'd', 'most', 'other', 'ourselves', 'an', \"that'll\", 'she', 'mustn', 'below', \"isn't\", 'his', 'can', 'on', 'ours', 'hers', 'needn', 'off', 'won', 'theirs', 'so', 'all', 'myself', 'more', \"you'll\", 'the', 'do', 'those', 'not', 'being', 'he', 'ma', 'very', 'only', 'wouldn', 't', 'who', \"shan't\", \"wouldn't\", 'by', 'further', 'during', 'doesn', 'where', 'that', 'under', \"hadn't\", 'now', 'we', \"won't\", 'hasn', \"it's\", \"doesn't\", 'weren', 'above', \"you've\", 'this', 'it', 'yours', 'having', 'after', \"wasn't\", 'up', 'from', 'both', 'each', 'have', 've', \"haven't\", 'haven', 'has', 'hadn', 'no', 'once', \"aren't\", 'then', 'than', 'her', 'while', \"you're\", \"couldn't\", 'against', 'its', 'had', 'or', 'same', 'ain', 'of', 'be', 'for', \"shouldn't\", 'been', 'll', 'should', 'did', 'such', 'aren', 'my', 'over', 'just', 'because', 'themselves', \"didn't\", 'couldn', 'isn', 'their', 'but', 'doing', 'does', 'down', 'didn', 'shouldn', 'if', 'were', 'they', 'between', 'few', \"don't\", 'are', 'through', 'out', 'a', 'any', 'herself', 'as', 'y', 'again', 'own', 'was', 'to', \"mustn't\", 'at', 'i', 'here', \"needn't\", \"weren't\", 'yourselves', 'itself', 'o'}\n"
          ],
          "name": "stdout"
        }
      ]
    },
    {
      "cell_type": "code",
      "metadata": {
        "id": "ZOczzKMTVzkb",
        "colab_type": "code",
        "colab": {}
      },
      "source": [
        "def nlp_preprocessing(total_text, index, column):\n",
        "    if type(total_text) is not int:\n",
        "        string = \"\"\n",
        "        for words in total_text.split():\n",
        "            # remove the special chars in review like '\"#$@!%^&*()_+-~?>< etc.\n",
        "            word = (\"\".join(e for e in words if e.isalnum()))\n",
        "            # Conver all letters to lower-case\n",
        "            word = word.lower()\n",
        "            # stop-word removal\n",
        "            if not word in stop_words:\n",
        "                string += word + \" \"\n",
        "        data[column][index] = string"
      ],
      "execution_count": 0,
      "outputs": []
    },
    {
      "cell_type": "code",
      "metadata": {
        "id": "G3ijkcWSV14X",
        "colab_type": "code",
        "outputId": "c42d0493-b177-4d8e-ec12-0424091d0818",
        "colab": {
          "base_uri": "https://localhost:8080/",
          "height": 34
        }
      },
      "source": [
        "start_time = time.clock()\n",
        "# we take each title and we text-preprocess it.\n",
        "for index, row in data.iterrows():\n",
        "    nlp_preprocessing(row['title'], index, 'title')\n",
        "# we print the time it took to preprocess whole titles \n",
        "print(time.clock() - start_time, \"seconds\")"
      ],
      "execution_count": 0,
      "outputs": [
        {
          "output_type": "stream",
          "text": [
            "6.427645999999999 seconds\n"
          ],
          "name": "stdout"
        }
      ]
    },
    {
      "cell_type": "code",
      "metadata": {
        "id": "F2KuCcPzV5A1",
        "colab_type": "code",
        "outputId": "39f06824-456b-4baa-9edf-963bc3f20d8a",
        "colab": {
          "base_uri": "https://localhost:8080/",
          "height": 459
        }
      },
      "source": [
        "data.head()"
      ],
      "execution_count": 0,
      "outputs": [
        {
          "output_type": "execute_result",
          "data": {
            "text/html": [
              "<div>\n",
              "<style scoped>\n",
              "    .dataframe tbody tr th:only-of-type {\n",
              "        vertical-align: middle;\n",
              "    }\n",
              "\n",
              "    .dataframe tbody tr th {\n",
              "        vertical-align: top;\n",
              "    }\n",
              "\n",
              "    .dataframe thead th {\n",
              "        text-align: right;\n",
              "    }\n",
              "</style>\n",
              "<table border=\"1\" class=\"dataframe\">\n",
              "  <thead>\n",
              "    <tr style=\"text-align: right;\">\n",
              "      <th></th>\n",
              "      <th>asin</th>\n",
              "      <th>brand</th>\n",
              "      <th>color</th>\n",
              "      <th>medium_image_url</th>\n",
              "      <th>product_type_name</th>\n",
              "      <th>title</th>\n",
              "      <th>formatted_price</th>\n",
              "    </tr>\n",
              "  </thead>\n",
              "  <tbody>\n",
              "    <tr>\n",
              "      <th>4</th>\n",
              "      <td>B004GSI2OS</td>\n",
              "      <td>FeatherLite</td>\n",
              "      <td>Onyx Black/ Stone</td>\n",
              "      <td>https://images-na.ssl-images-amazon.com/images...</td>\n",
              "      <td>SHIRT</td>\n",
              "      <td>featherlite ladies long sleeve stain resistant...</td>\n",
              "      <td>$26.26</td>\n",
              "    </tr>\n",
              "    <tr>\n",
              "      <th>6</th>\n",
              "      <td>B012YX2ZPI</td>\n",
              "      <td>HX-Kingdom Fashion T-shirts</td>\n",
              "      <td>White</td>\n",
              "      <td>https://images-na.ssl-images-amazon.com/images...</td>\n",
              "      <td>SHIRT</td>\n",
              "      <td>womens unique 100 cotton  special olympics wor...</td>\n",
              "      <td>$9.99</td>\n",
              "    </tr>\n",
              "    <tr>\n",
              "      <th>15</th>\n",
              "      <td>B003BSRPB0</td>\n",
              "      <td>FeatherLite</td>\n",
              "      <td>White</td>\n",
              "      <td>https://images-na.ssl-images-amazon.com/images...</td>\n",
              "      <td>SHIRT</td>\n",
              "      <td>featherlite ladies moisture free mesh sport sh...</td>\n",
              "      <td>$20.54</td>\n",
              "    </tr>\n",
              "    <tr>\n",
              "      <th>27</th>\n",
              "      <td>B014ICEJ1Q</td>\n",
              "      <td>FNC7C</td>\n",
              "      <td>Purple</td>\n",
              "      <td>https://images-na.ssl-images-amazon.com/images...</td>\n",
              "      <td>SHIRT</td>\n",
              "      <td>supernatural chibis sam dean castiel neck tshi...</td>\n",
              "      <td>$7.39</td>\n",
              "    </tr>\n",
              "    <tr>\n",
              "      <th>43</th>\n",
              "      <td>B0079BMKDS</td>\n",
              "      <td>FeatherLite</td>\n",
              "      <td>White</td>\n",
              "      <td>https://images-na.ssl-images-amazon.com/images...</td>\n",
              "      <td>APPAREL</td>\n",
              "      <td>featherlite ladies silky smooth pique white xl</td>\n",
              "      <td>$13.53</td>\n",
              "    </tr>\n",
              "  </tbody>\n",
              "</table>\n",
              "</div>"
            ],
            "text/plain": [
              "          asin  ... formatted_price\n",
              "4   B004GSI2OS  ...          $26.26\n",
              "6   B012YX2ZPI  ...           $9.99\n",
              "15  B003BSRPB0  ...          $20.54\n",
              "27  B014ICEJ1Q  ...           $7.39\n",
              "43  B0079BMKDS  ...          $13.53\n",
              "\n",
              "[5 rows x 7 columns]"
            ]
          },
          "metadata": {
            "tags": []
          },
          "execution_count": 37
        }
      ]
    },
    {
      "cell_type": "markdown",
      "metadata": {
        "id": "S2k9j2PkV_KE",
        "colab_type": "text"
      },
      "source": [
        ""
      ]
    },
    {
      "cell_type": "markdown",
      "metadata": {
        "id": "D6Ddzl9kPLPa",
        "colab_type": "text"
      },
      "source": [
        "# Recommendation using Product Titles"
      ]
    },
    {
      "cell_type": "code",
      "metadata": {
        "id": "OJWuxGftV7hN",
        "colab_type": "code",
        "outputId": "6fed23f3-fbe0-40ce-99d7-b71433775057",
        "colab": {
          "base_uri": "https://localhost:8080/",
          "height": 459
        }
      },
      "source": [
        "data = pd.read_pickle('/content/drive/My Drive/Applied_AI_Workshop_Code_Data/pickels/16k_apperal_data_preprocessed')\n",
        "data.head()"
      ],
      "execution_count": 0,
      "outputs": [
        {
          "output_type": "execute_result",
          "data": {
            "text/html": [
              "<div>\n",
              "<style scoped>\n",
              "    .dataframe tbody tr th:only-of-type {\n",
              "        vertical-align: middle;\n",
              "    }\n",
              "\n",
              "    .dataframe tbody tr th {\n",
              "        vertical-align: top;\n",
              "    }\n",
              "\n",
              "    .dataframe thead th {\n",
              "        text-align: right;\n",
              "    }\n",
              "</style>\n",
              "<table border=\"1\" class=\"dataframe\">\n",
              "  <thead>\n",
              "    <tr style=\"text-align: right;\">\n",
              "      <th></th>\n",
              "      <th>asin</th>\n",
              "      <th>brand</th>\n",
              "      <th>color</th>\n",
              "      <th>medium_image_url</th>\n",
              "      <th>product_type_name</th>\n",
              "      <th>title</th>\n",
              "      <th>formatted_price</th>\n",
              "    </tr>\n",
              "  </thead>\n",
              "  <tbody>\n",
              "    <tr>\n",
              "      <th>4</th>\n",
              "      <td>B004GSI2OS</td>\n",
              "      <td>FeatherLite</td>\n",
              "      <td>Onyx Black/ Stone</td>\n",
              "      <td>https://images-na.ssl-images-amazon.com/images...</td>\n",
              "      <td>SHIRT</td>\n",
              "      <td>featherlite ladies long sleeve stain resistant...</td>\n",
              "      <td>$26.26</td>\n",
              "    </tr>\n",
              "    <tr>\n",
              "      <th>6</th>\n",
              "      <td>B012YX2ZPI</td>\n",
              "      <td>HX-Kingdom Fashion T-shirts</td>\n",
              "      <td>White</td>\n",
              "      <td>https://images-na.ssl-images-amazon.com/images...</td>\n",
              "      <td>SHIRT</td>\n",
              "      <td>womens unique 100 cotton  special olympics wor...</td>\n",
              "      <td>$9.99</td>\n",
              "    </tr>\n",
              "    <tr>\n",
              "      <th>15</th>\n",
              "      <td>B003BSRPB0</td>\n",
              "      <td>FeatherLite</td>\n",
              "      <td>White</td>\n",
              "      <td>https://images-na.ssl-images-amazon.com/images...</td>\n",
              "      <td>SHIRT</td>\n",
              "      <td>featherlite ladies moisture free mesh sport sh...</td>\n",
              "      <td>$20.54</td>\n",
              "    </tr>\n",
              "    <tr>\n",
              "      <th>27</th>\n",
              "      <td>B014ICEJ1Q</td>\n",
              "      <td>FNC7C</td>\n",
              "      <td>Purple</td>\n",
              "      <td>https://images-na.ssl-images-amazon.com/images...</td>\n",
              "      <td>SHIRT</td>\n",
              "      <td>supernatural chibis sam dean castiel neck tshi...</td>\n",
              "      <td>$7.39</td>\n",
              "    </tr>\n",
              "    <tr>\n",
              "      <th>46</th>\n",
              "      <td>B01NACPBG2</td>\n",
              "      <td>Fifth Degree</td>\n",
              "      <td>Black</td>\n",
              "      <td>https://images-na.ssl-images-amazon.com/images...</td>\n",
              "      <td>SHIRT</td>\n",
              "      <td>fifth degree womens gold foil graphic tees jun...</td>\n",
              "      <td>$6.95</td>\n",
              "    </tr>\n",
              "  </tbody>\n",
              "</table>\n",
              "</div>"
            ],
            "text/plain": [
              "          asin  ... formatted_price\n",
              "4   B004GSI2OS  ...          $26.26\n",
              "6   B012YX2ZPI  ...           $9.99\n",
              "15  B003BSRPB0  ...          $20.54\n",
              "27  B014ICEJ1Q  ...           $7.39\n",
              "46  B01NACPBG2  ...           $6.95\n",
              "\n",
              "[5 rows x 7 columns]"
            ]
          },
          "metadata": {
            "tags": []
          },
          "execution_count": 38
        }
      ]
    },
    {
      "cell_type": "code",
      "metadata": {
        "id": "FU2rbQY6WCoP",
        "colab_type": "code",
        "colab": {}
      },
      "source": [
        "\n",
        "\n",
        "\n",
        "#Display an image\n",
        "def display_img(url,ax,fig):\n",
        "    # we get the url of the apparel and download it\n",
        "    response = requests.get(url)\n",
        "    img = Image.open(BytesIO(response.content))\n",
        "    # we will display it in notebook \n",
        "    plt.imshow(img)\n",
        "  \n",
        "#plotting code to understand the algorithm's decision.\n",
        "def plot_heatmap(keys, values, labels, url, text):\n",
        "        # keys: list of words of recommended title\n",
        "        # values: len(values) ==  len(keys), values(i) represents the occurence of the word keys(i)\n",
        "        # labels: len(labels) == len(keys), the values of labels depends on the model we are using\n",
        "                # if model == 'bag of words': labels(i) = values(i)\n",
        "                # if model == 'tfidf weighted bag of words':labels(i) = tfidf(keys(i))\n",
        "                # if model == 'idf weighted bag of words':labels(i) = idf(keys(i))\n",
        "        # url : apparel's url\n",
        "\n",
        "        # we will devide the whole figure into two parts\n",
        "        gs = gridspec.GridSpec(2, 2, width_ratios=[4,1], height_ratios=[4,1]) \n",
        "        fig = plt.figure(figsize=(25,3))\n",
        "        \n",
        "        # 1st, ploting heat map that represents the count of commonly ocurred words in title2\n",
        "        ax = plt.subplot(gs[0])\n",
        "        # it displays a cell in white color if the word is intersection(lis of words of title1 and list of words of title2), in black if not\n",
        "        ax = sns.heatmap(np.array([values]), annot=np.array([labels]))\n",
        "        ax.set_xticklabels(keys) # set that axis labels as the words of title\n",
        "        ax.set_title(text) # apparel title\n",
        "        \n",
        "        # 2nd, plotting image of the the apparel\n",
        "        ax = plt.subplot(gs[1])\n",
        "        # we don't want any grid lines for image and no labels on x-axis and y-axis\n",
        "        ax.grid(False)\n",
        "        ax.set_xticks([])\n",
        "        ax.set_yticks([])\n",
        "        \n",
        "        # we call dispaly_img based with paramete url\n",
        "        display_img(url, ax, fig)\n",
        "        \n",
        "        # displays combine figure ( heat map and image together)\n",
        "        plt.show()\n",
        "    \n",
        "def plot_heatmap_image(doc_id, vec1, vec2, url, text, model):\n",
        "\n",
        "    # doc_id : index of the title1\n",
        "    # vec1 : input apparels's vector, it is of a dict type {word:count}\n",
        "    # vec2 : recommended apparels's vector, it is of a dict type {word:count}\n",
        "    # url : apparels image url\n",
        "    # text: title of recomonded apparel (used to keep title of image)\n",
        "    # model, it can be any of the models, \n",
        "        # 1. bag_of_words\n",
        "        # 2. tfidf\n",
        "        # 3. idf\n",
        "\n",
        "    # we find the common words in both titles, because these only words contribute to the distance between two title vec's\n",
        "    intersection = set(vec1.keys()) & set(vec2.keys()) \n",
        "\n",
        "    # we set the values of non intersecting words to zero, this is just to show the difference in heatmap\n",
        "    for i in vec2:\n",
        "        if i not in intersection:\n",
        "            vec2[i]=0\n",
        "\n",
        "    # for labeling heatmap, keys contains list of all words in title2\n",
        "    keys = list(vec2.keys())\n",
        "    #  if ith word in intersection(lis of words of title1 and list of words of title2): values(i)=count of that word in title2 else values(i)=0 \n",
        "    values = [vec2[x] for x in vec2.keys()]\n",
        "    \n",
        "    # labels: len(labels) == len(keys), the values of labels depends on the model we are using\n",
        "        # if model == 'bag of words': labels(i) = values(i)\n",
        "        # if model == 'tfidf weighted bag of words':labels(i) = tfidf(keys(i))\n",
        "        # if model == 'idf weighted bag of words':labels(i) = idf(keys(i))\n",
        "\n",
        "    if model == 'bag_of_words':\n",
        "        labels = values\n",
        "    elif model == 'tfidf':\n",
        "        labels = []\n",
        "        for x in vec2.keys():\n",
        "            # tfidf_title_vectorizer.vocabulary_ it contains all the words in the corpus\n",
        "            # tfidf_title_features[doc_id, index_of_word_in_corpus] will give the tfidf value of word in given document (doc_id)\n",
        "            if x in  tfidf_title_vectorizer.vocabulary_:\n",
        "                labels.append(tfidf_title_features[doc_id, tfidf_title_vectorizer.vocabulary_[x]])\n",
        "            else:\n",
        "                labels.append(0)\n",
        "    elif model == 'idf':\n",
        "        labels = []\n",
        "        for x in vec2.keys():\n",
        "            # idf_title_vectorizer.vocabulary_ it contains all the words in the corpus\n",
        "            # idf_title_features[doc_id, index_of_word_in_corpus] will give the idf value of word in given document (doc_id)\n",
        "            if x in  idf_title_vectorizer.vocabulary_:\n",
        "                labels.append(idf_title_features[doc_id, idf_title_vectorizer.vocabulary_[x]])\n",
        "            else:\n",
        "                labels.append(0)\n",
        "\n",
        "    plot_heatmap(keys, values, labels, url, text)\n",
        "\n",
        "\n",
        "# this function gets a list of wrods along with the frequency of each \n",
        "# word given \"text\"\n",
        "def text_to_vector(text):\n",
        "    word = re.compile(r'\\w+')\n",
        "    words = word.findall(text)\n",
        "    # words stores list of all words in given string, you can try 'words = text.split()' this will also gives same result\n",
        "    return Counter(words) # Counter counts the occurence of each word in list, it returns dict type object {word1:count}\n",
        "\n",
        "\n",
        "\n",
        "def get_result(doc_id, content_a, content_b, url, model):\n",
        "    text1 = content_a\n",
        "    text2 = content_b\n",
        "    \n",
        "    # vector1 = dict{word11:#count, word12:#count, etc.}\n",
        "    vector1 = text_to_vector(text1)\n",
        "\n",
        "    # vector1 = dict{word21:#count, word22:#count, etc.}\n",
        "    vector2 = text_to_vector(text2)\n",
        "\n",
        "    plot_heatmap_image(doc_id, vector1, vector2, url, text2, model)"
      ],
      "execution_count": 0,
      "outputs": []
    },
    {
      "cell_type": "code",
      "metadata": {
        "id": "jJsuEk9pWRHG",
        "colab_type": "code",
        "outputId": "be718a05-c9c8-4539-c244-ac138e123a8f",
        "colab": {
          "base_uri": "https://localhost:8080/",
          "height": 34
        }
      },
      "source": [
        "from sklearn.feature_extraction.text import CountVectorizer\n",
        "title_vectorizer = CountVectorizer()\n",
        "title_features   = title_vectorizer.fit_transform(data['title'])\n",
        "title_features.get_shape() # get number of rows and columns in feature matrix.\n",
        "# title_features.shape = #data_points * #words_in_corpus\n",
        "# CountVectorizer().fit_transform(corpus) returns \n",
        "# the a sparase matrix of dimensions #data_points * #words_in_corpus\n",
        "\n",
        "# title_features[doc_id, index_of_word_in_corpus] = number of times the word occured in that doc\n"
      ],
      "execution_count": 0,
      "outputs": [
        {
          "output_type": "execute_result",
          "data": {
            "text/plain": [
              "(16042, 12609)"
            ]
          },
          "metadata": {
            "tags": []
          },
          "execution_count": 40
        }
      ]
    },
    {
      "cell_type": "code",
      "metadata": {
        "id": "Z7r7qb0HWUjL",
        "colab_type": "code",
        "outputId": "769f2c03-d041-4c7b-c176-2c0dec85943c",
        "colab": {
          "base_uri": "https://localhost:8080/",
          "height": 992
        }
      },
      "source": [
        "def bag_of_words_model(doc_id, num_results):\n",
        "    # doc_id: apparel's id in given corpus\n",
        "    \n",
        "    # pairwise_dist will store the distance from given input apparel to all remaining apparels\n",
        "    # the metric we used here is cosine, the coside distance is mesured as K(X, Y) = <X, Y> / (||X||*||Y||)\n",
        "    # http://scikit-learn.org/stable/modules/metrics.html#cosine-similarity\n",
        "    pairwise_dist = pairwise_distances(title_features,title_features[doc_id])\n",
        "    \n",
        "    # np.argsort will return indices of the smallest distances\n",
        "    indices = np.argsort(pairwise_dist.flatten())[0:num_results]\n",
        "    #pdists will store the smallest distances\n",
        "    pdists  = np.sort(pairwise_dist.flatten())[0:num_results]\n",
        "\n",
        "    #data frame indices of the 9 smallest distace's\n",
        "    df_indices = list(data.index[indices])\n",
        "    \n",
        "    for i in range(0,len(indices)):\n",
        "        # we will pass 1. doc_id, 2. title1, 3. title2, url, model\n",
        "        get_result(indices[i],data['title'].loc[df_indices[0]], data['title'].loc[df_indices[i]], data['medium_image_url'].loc[df_indices[i]], 'bag_of_words')\n",
        "        print('ASIN :',data['asin'].loc[df_indices[i]])\n",
        "        print ('Brand:', data['brand'].loc[df_indices[i]])\n",
        "        print ('Title:', data['title'].loc[df_indices[i]])\n",
        "        print ('Euclidean similarity with the query image :', pdists[i])\n",
        "        print('='*60)\n",
        "\n",
        "#call the bag-of-words model for a product to get similar products.\n",
        "bag_of_words_model(15145, 5) "
      ],
      "execution_count": 0,
      "outputs": [
        {
          "output_type": "display_data",
          "data": {
            "image/png": "[encoded data removed]",
            "text/plain": [
              "<Figure size 1800x216 with 3 Axes>"
            ]
          },
          "metadata": {
            "tags": []
          }
        },
        {
          "output_type": "stream",
          "text": [
            "ASIN : B01D3V4SDC\n",
            "Brand: DSQUARED2\n",
            "Title: dsquared2 100 wool gray vneck sleeveless womens blouse top us 40 \n",
            "Euclidean similarity with the query image : 0.0\n",
            "============================================================\n"
          ],
          "name": "stdout"
        },
        {
          "output_type": "display_data",
          "data": {
            "image/png": "[encoded data removed]",
            "text/plain": [
              "<Figure size 1800x216 with 3 Axes>"
            ]
          },
          "metadata": {
            "tags": []
          }
        },
        {
          "output_type": "stream",
          "text": [
            "ASIN : B01EDYY6AI\n",
            "Brand: DSQUARED2\n",
            "Title: dsquared2 100 silk gray sleeveless womens tank top blouse us 40 \n",
            "Euclidean similarity with the query image : 2.0\n",
            "============================================================\n"
          ],
          "name": "stdout"
        },
        {
          "output_type": "display_data",
          "data": {
            "image/png": "[encoded data removed]",
            "text/plain": [
              "<Figure size 1800x216 with 3 Axes>"
            ]
          },
          "metadata": {
            "tags": []
          }
        },
        {
          "output_type": "stream",
          "text": [
            "ASIN : B01M1J5NB0\n",
            "Brand: DSQUARED2\n",
            "Title: dsquared2 burgundy sleeveless vneck womens knitted blouse top us 40 \n",
            "Euclidean similarity with the query image : 2.23606797749979\n",
            "============================================================\n"
          ],
          "name": "stdout"
        },
        {
          "output_type": "display_data",
          "data": {
            "image/png": "[encoded data removed]",
            "text/plain": [
              "<Figure size 1800x216 with 3 Axes>"
            ]
          },
          "metadata": {
            "tags": []
          }
        },
        {
          "output_type": "stream",
          "text": [
            "ASIN : B01D6DN99Q\n",
            "Brand: DSQUARED2\n",
            "Title: dsquared2 100 silk multicolor sleeveless womens blouse top us 40 \n",
            "Euclidean similarity with the query image : 2.23606797749979\n",
            "============================================================\n"
          ],
          "name": "stdout"
        },
        {
          "output_type": "display_data",
          "data": {
            "image/png": "[encoded data removed]",
            "text/plain": [
              "<Figure size 1800x216 with 3 Axes>"
            ]
          },
          "metadata": {
            "tags": []
          }
        },
        {
          "output_type": "stream",
          "text": [
            "ASIN : B01G2GTJJS\n",
            "Brand: DSQUARED2\n",
            "Title: dsquared2 wool dark green sleeveless womens blouse top us 40 \n",
            "Euclidean similarity with the query image : 2.23606797749979\n",
            "============================================================\n"
          ],
          "name": "stdout"
        }
      ]
    },
    {
      "cell_type": "markdown",
      "metadata": {
        "id": "iHhomSpOWomP",
        "colab_type": "text"
      },
      "source": [
        "# Keras and Tensorflow to extract features"
      ]
    },
    {
      "cell_type": "code",
      "metadata": {
        "id": "gDmDnLunWd4B",
        "colab_type": "code",
        "outputId": "6e9b6cd0-ee30-49c2-9965-0132ec426b74",
        "colab": {
          "base_uri": "https://localhost:8080/",
          "height": 34
        }
      },
      "source": [
        "import numpy as np\n",
        "from keras.preprocessing.image import ImageDataGenerator\n",
        "from keras.models import Sequential\n",
        "from keras.layers import Dropout, Flatten, Dense\n",
        "from keras import applications\n",
        "from sklearn.metrics import pairwise_distances\n",
        "import matplotlib.pyplot as plt\n",
        "import requests\n",
        "from PIL import Image\n",
        "import pandas as pd\n",
        "import pickle"
      ],
      "execution_count": 0,
      "outputs": [
        {
          "output_type": "stream",
          "text": [
            "Using TensorFlow backend.\n"
          ],
          "name": "stderr"
        }
      ]
    },
    {
      "cell_type": "code",
      "metadata": {
        "id": "dxrsfopwWt-b",
        "colab_type": "code",
        "outputId": "58780d26-b3cc-4389-cf92-a1887b3ba47e",
        "colab": {
          "base_uri": "https://localhost:8080/",
          "height": 54
        }
      },
      "source": [
        "\n",
        "# Code reference: https://blog.keras.io/building-powerful-image-classification-models-using-very-little-data.html\n",
        "\n",
        "# This code extracts feature vectors of all 16k images.\n",
        "# We employ transfer learning using VGG16 model\n",
        "# We save all the feature vectors in a numpy file(1.5GB)\n",
        "\n",
        "\n",
        "# each image is converted into 25088 length dense-vector\n",
        "\n",
        "\n",
        "'''\n",
        "# dimensions of our images.\n",
        "img_width, img_height = 224, 224\n",
        "\n",
        "top_model_weights_path = 'bottleneck_fc_model.h5'\n",
        "train_data_dir = '/content/16k images'\n",
        "nb_train_samples = 16042\n",
        "epochs = 50\n",
        "batch_size = 1\n",
        "\n",
        "\n",
        "def save_bottlebeck_features():\n",
        "    \n",
        "    #Function to compute VGG-16 CNN for image feature extraction.\n",
        "    \n",
        "    asins = []\n",
        "    datagen = ImageDataGenerator(rescale=1. / 255)\n",
        "    \n",
        "    # build the VGG16 network\n",
        "    model = applications.VGG16(include_top=False, weights='imagenet')\n",
        "    generator = datagen.flow_from_directory(\n",
        "        train_data_dir,\n",
        "        target_size=(img_width, img_height),\n",
        "        batch_size=batch_size,\n",
        "        class_mode=None,\n",
        "        shuffle=False)\n",
        "\n",
        "    for i in generator.filenames:\n",
        "        asins.append(i[2:-5])\n",
        "\n",
        "    bottleneck_features_train = model.predict_generator(generator, nb_train_samples // batch_size)\n",
        "    bottleneck_features_train = bottleneck_features_train.reshape((16042,25088))\n",
        "    \n",
        "    np.save(open('16k_data_cnn_features.npy', 'wb'), bottleneck_features_train)\n",
        "    np.save(open('16k_data_cnn_feature_asins.npy', 'wb'), np.array(asins))\n",
        "    \n",
        "\n",
        "save_bottlebeck_features()\n",
        "\n",
        "'''"
      ],
      "execution_count": 0,
      "outputs": [
        {
          "output_type": "execute_result",
          "data": {
            "text/plain": [
              "\"\\n# dimensions of our images.\\nimg_width, img_height = 224, 224\\n\\ntop_model_weights_path = 'bottleneck_fc_model.h5'\\ntrain_data_dir = '/content/16k images'\\nnb_train_samples = 16042\\nepochs = 50\\nbatch_size = 1\\n\\n\\ndef save_bottlebeck_features():\\n    \\n    #Function to compute VGG-16 CNN for image feature extraction.\\n    \\n    asins = []\\n    datagen = ImageDataGenerator(rescale=1. / 255)\\n    \\n    # build the VGG16 network\\n    model = applications.VGG16(include_top=False, weights='imagenet')\\n    generator = datagen.flow_from_directory(\\n        train_data_dir,\\n        target_size=(img_width, img_height),\\n        batch_size=batch_size,\\n        class_mode=None,\\n        shuffle=False)\\n\\n    for i in generator.filenames:\\n        asins.append(i[2:-5])\\n\\n    bottleneck_features_train = model.predict_generator(generator, nb_train_samples // batch_size)\\n    bottleneck_features_train = bottleneck_features_train.reshape((16042,25088))\\n    \\n    np.save(open('16k_data_cnn_features.npy', 'wb'), bottleneck_features_train)\\n    np.save(open('16k_data_cnn_feature_asins.npy', 'wb'), np.array(asins))\\n    \\n\\nsave_bottlebeck_features()\\n\\n\""
            ]
          },
          "metadata": {
            "tags": []
          },
          "execution_count": 45
        }
      ]
    },
    {
      "cell_type": "code",
      "metadata": {
        "id": "Ey1njxBNWxNm",
        "colab_type": "code",
        "outputId": "62844545-703a-411f-f0c1-5484a039c13d",
        "colab": {
          "base_uri": "https://localhost:8080/",
          "height": 1000
        }
      },
      "source": [
        "#load the features and corresponding ASINS info.\n",
        "bottleneck_features_train = np.load('/content/drive/My Drive/Applied_AI_Workshop_Code_Data/16k_data_cnn_features.npy')\n",
        "asins = np.load('/content/drive/My Drive/Applied_AI_Workshop_Code_Data/16k_data_cnn_feature_asins.npy')\n",
        "asins = list(asins)\n",
        "\n",
        "# load the original 16K dataset\n",
        "data = pd.read_pickle('/content/drive/My Drive/Applied_AI_Workshop_Code_Data/pickels/16k_apperal_data_preprocessed')\n",
        "df_asins = list(data['asin'])\n",
        "\n",
        "\n",
        "from IPython.display import display, Image, SVG, Math, YouTubeVideo\n",
        "\n",
        "\n",
        "#get similar products using CNN features (VGG-16)\n",
        "def get_similar_products_cnn(doc_id, num_results):\n",
        "    doc_id = asins.index(df_asins[doc_id])\n",
        "    pairwise_dist = pairwise_distances(bottleneck_features_train, bottleneck_features_train[doc_id].reshape(1,-1))\n",
        "\n",
        "    indices = np.argsort(pairwise_dist.flatten())[0:num_results]\n",
        "    pdists  = np.sort(pairwise_dist.flatten())[0:num_results]\n",
        "\n",
        "    for i in range(len(indices)):\n",
        "        rows = data[['medium_image_url','title']].loc[data['asin']==asins[indices[i]]]\n",
        "        for indx, row in rows.iterrows():\n",
        "            display(Image(url=row['medium_image_url'], embed=True))\n",
        "            print('Product Title: ', row['title'])\n",
        "            print('Euclidean Distance from input image:', pdists[i])\n",
        "            print('Amazon Url: www.amzon.com/dp/'+ asins[indices[i]])\n",
        "\n",
        "get_similar_products_cnn(11490, 5)\n"
      ],
      "execution_count": 0,
      "outputs": [
        {
          "output_type": "display_data",
          "data": {
            "image/jpeg": "[encoded data removed]",
            "text/plain": [
              "<IPython.core.display.Image object>"
            ]
          },
          "metadata": {
            "tags": []
          }
        },
        {
          "output_type": "stream",
          "text": [
            "Product Title:  isla womens beat crop top xs black \n",
            "Euclidean Distance from input image: 6.32596e-06\n",
            "Amazon Url: www.amzon.com/dp/B074MHWFY1\n"
          ],
          "name": "stdout"
        },
        {
          "output_type": "display_data",
          "data": {
            "image/jpeg": "[encoded data removed]",
            "text/plain": [
              "<IPython.core.display.Image object>"
            ]
          },
          "metadata": {
            "tags": []
          }
        },
        {
          "output_type": "stream",
          "text": [
            "Product Title:  abs allen b schwartz womens abs allen schwartz cutin crop top large black \n",
            "Euclidean Distance from input image: 31.14753\n",
            "Amazon Url: www.amzon.com/dp/B01MG4Y55O\n"
          ],
          "name": "stdout"
        },
        {
          "output_type": "display_data",
          "data": {
            "image/jpeg": "[encoded data removed]",
            "text/plain": [
              "<IPython.core.display.Image object>"
            ]
          },
          "metadata": {
            "tags": []
          }
        },
        {
          "output_type": "stream",
          "text": [
            "Product Title:  abs allen b schwartz womens abs allen schwartz top large black \n",
            "Euclidean Distance from input image: 34.036083\n",
            "Amazon Url: www.amzon.com/dp/B01M5FSI9H\n"
          ],
          "name": "stdout"
        },
        {
          "output_type": "display_data",
          "data": {
            "image/jpeg": "[encoded data removed]",
            "text/plain": [
              "<IPython.core.display.Image object>"
            ]
          },
          "metadata": {
            "tags": []
          }
        },
        {
          "output_type": "stream",
          "text": [
            "Product Title:  susana monaco womens oneshoulder flutter top xl purple \n",
            "Euclidean Distance from input image: 34.513695\n",
            "Amazon Url: www.amzon.com/dp/B0753PK7S6\n"
          ],
          "name": "stdout"
        },
        {
          "output_type": "display_data",
          "data": {
            "image/jpeg": "[encoded data removed]",
            "text/plain": [
              "<IPython.core.display.Image object>"
            ]
          },
          "metadata": {
            "tags": []
          }
        },
        {
          "output_type": "stream",
          "text": [
            "Product Title:  alice  olivia womens lace crop top 2 black \n",
            "Euclidean Distance from input image: 34.721256\n",
            "Amazon Url: www.amzon.com/dp/B072JWD87P\n"
          ],
          "name": "stdout"
        }
      ]
    },
    {
      "cell_type": "code",
      "metadata": {
        "id": "8HffUo0jW1jC",
        "colab_type": "code",
        "colab": {}
      },
      "source": [
        ""
      ],
      "execution_count": 0,
      "outputs": []
    }
  ]
}